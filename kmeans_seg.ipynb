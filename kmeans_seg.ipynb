{
 "cells": [
  {
   "cell_type": "code",
   "execution_count": null,
   "metadata": {
    "collapsed": false
   },
   "outputs": [],
   "source": [
    "from sklearn.cluster import KMeans\n",
    "import matplotlib.pyplot as plt\n",
    "import scipy\n",
    "import numpy\n",
    "import matplotlib.image as mpimg\n",
    "\n",
    "def take_location(image):\n",
    "    shape = image.shape\n",
    "    shape = list(shape)\n",
    "    shape[2] += 2\n",
    "    shape = tuple(shape)\n",
    "    new_image = numpy.ndarray(shape=shape)\n",
    "    for i in range(image.shape[0]):\n",
    "        for j in range(image.shape[1]):\n",
    "            a = numpy.append(image[i,j], [i*0.5,j*0.5])\n",
    "            new_image[i,j] = a\n",
    "    return new_image\n",
    "\n",
    "def k_means_seg(image_path,k):\n",
    "    image = scipy.misc.imread(image_path)\n",
    "    if len(image.shape) == 3:\n",
    "        image_copy = image.copy()\n",
    "        new_image = take_location(image)\n",
    "        image_k = new_image.reshape((image.shape[0] * image.shape[1], 5))\n",
    "        clt = KMeans(n_clusters = k)\n",
    "        label = clt.fit_predict(image_k)\n",
    "        shape = image.shape\n",
    "        label = label.reshape(shape[0],shape[1])\n",
    "        colors = [[255,0,0],[0,255,0],[0,0,255],[0,255,255],[255,0,255],[255,255,0]]\n",
    "        colors1 = [[46,139,87],[102,205,170],[60,179,113],[32,178,170]]\n",
    "        for i in range(shape[0]):\n",
    "            for j in range(shape[1]):\n",
    "                image[i][j] = colors1[label[i][j]]\n",
    "        imsave('tmp.jpg',image)\n",
    "    elif len(image.shape) == 2:\n",
    "        image_copy = image.copy()\n",
    "        image_k = image.reshape(image.shape[0] * image.shape[1])\n",
    "        clt = KMeans(n_clusters = k)\n",
    "        label = clt.fit_predict(image_k)\n",
    "        shape = image.shape\n",
    "        label = label.reshape(shape[0],shape[1])\n",
    "        colors = [[255,0,0],[0,255,0],[0,0,255],[0,255,255],[255,0,255],[255,255,0]]\n",
    "        colors1 = [[46,139,87],[102,205,170],[60,179,113],[32,178,170]]\n",
    "        for i in range(shape[0]):\n",
    "            for j in range(shape[1]):\n",
    "                image[i][j] = colors1[label[i][j]]\n",
    "        imsave('tmp.jpg',image)"
   ]
  },
  {
   "cell_type": "code",
   "execution_count": 2,
   "metadata": {
    "collapsed": false,
    "scrolled": true
   },
   "outputs": [
    {
     "ename": "NameError",
     "evalue": "name 'imsave' is not defined",
     "output_type": "error",
     "traceback": [
      "\u001b[0;31m---------------------------------------------------------------------------\u001b[0m",
      "\u001b[0;31mNameError\u001b[0m                                 Traceback (most recent call last)",
      "\u001b[0;32m<ipython-input-2-5faf1bdfee81>\u001b[0m in \u001b[0;36m<module>\u001b[0;34m()\u001b[0m\n\u001b[0;32m----> 1\u001b[0;31m \u001b[0mk_means_seg\u001b[0m\u001b[0;34m(\u001b[0m\u001b[0;34m'1327.jpg'\u001b[0m\u001b[0;34m,\u001b[0m\u001b[0;36m5\u001b[0m\u001b[0;34m)\u001b[0m\u001b[0;34m\u001b[0m\u001b[0m\n\u001b[0m",
      "\u001b[0;32m<ipython-input-1-744a085918c8>\u001b[0m in \u001b[0;36mk_means_seg\u001b[0;34m(image_path, k)\u001b[0m\n\u001b[1;32m     31\u001b[0m             \u001b[0;32mfor\u001b[0m \u001b[0mj\u001b[0m \u001b[0;32min\u001b[0m \u001b[0mrange\u001b[0m\u001b[0;34m(\u001b[0m\u001b[0mshape\u001b[0m\u001b[0;34m[\u001b[0m\u001b[0;36m1\u001b[0m\u001b[0;34m]\u001b[0m\u001b[0;34m)\u001b[0m\u001b[0;34m:\u001b[0m\u001b[0;34m\u001b[0m\u001b[0m\n\u001b[1;32m     32\u001b[0m                 \u001b[0mimage\u001b[0m\u001b[0;34m[\u001b[0m\u001b[0mi\u001b[0m\u001b[0;34m]\u001b[0m\u001b[0;34m[\u001b[0m\u001b[0mj\u001b[0m\u001b[0;34m]\u001b[0m \u001b[0;34m=\u001b[0m \u001b[0mcolors\u001b[0m\u001b[0;34m[\u001b[0m\u001b[0mlabel\u001b[0m\u001b[0;34m[\u001b[0m\u001b[0mi\u001b[0m\u001b[0;34m]\u001b[0m\u001b[0;34m[\u001b[0m\u001b[0mj\u001b[0m\u001b[0;34m]\u001b[0m\u001b[0;34m]\u001b[0m\u001b[0;34m\u001b[0m\u001b[0m\n\u001b[0;32m---> 33\u001b[0;31m         \u001b[0mimsave\u001b[0m\u001b[0;34m(\u001b[0m\u001b[0;34m'tmp.jpg'\u001b[0m\u001b[0;34m,\u001b[0m\u001b[0mimage\u001b[0m\u001b[0;34m)\u001b[0m\u001b[0;34m\u001b[0m\u001b[0m\n\u001b[0m\u001b[1;32m     34\u001b[0m     \u001b[0;32melif\u001b[0m \u001b[0mlen\u001b[0m\u001b[0;34m(\u001b[0m\u001b[0mimage\u001b[0m\u001b[0;34m.\u001b[0m\u001b[0mshape\u001b[0m\u001b[0;34m)\u001b[0m \u001b[0;34m==\u001b[0m \u001b[0;36m2\u001b[0m\u001b[0;34m:\u001b[0m\u001b[0;34m\u001b[0m\u001b[0m\n\u001b[1;32m     35\u001b[0m         \u001b[0mimage_copy\u001b[0m \u001b[0;34m=\u001b[0m \u001b[0mimage\u001b[0m\u001b[0;34m.\u001b[0m\u001b[0mcopy\u001b[0m\u001b[0;34m(\u001b[0m\u001b[0;34m)\u001b[0m\u001b[0;34m\u001b[0m\u001b[0m\n",
      "\u001b[0;31mNameError\u001b[0m: name 'imsave' is not defined"
     ]
    }
   ],
   "source": [
    "k_means_seg('1327.jpg',5)"
   ]
  },
  {
   "cell_type": "code",
   "execution_count": null,
   "metadata": {
    "collapsed": false
   },
   "outputs": [],
   "source": [
    "import tkinter as tk\n",
    "import tkinter.messagebox\n",
    "from PIL import Image, ImageTk\n",
    "from scipy.misc import imsave\n",
    "from tkinter import ttk, filedialog\n",
    "\n",
    "class MainWindow:\n",
    "\n",
    "    def buttonListener1(self,event):\n",
    "        opts = {}\n",
    "        opts['filetypes'] = [('select image file','.jpg'),('all files','.*')]\n",
    "        s = filedialog.askopenfilename(**opts)\n",
    "        self.image_dir = s\n",
    "        image = Image.open(s)\n",
    "        photo = ImageTk.PhotoImage(image)\n",
    "        self.label_before_seg = tk.Label(image=photo)\n",
    "        self.text_1 = tk.Label(text=\"image before segmentation\",fg=\"blue\",font=(\"Helvetica\", 16))\n",
    "        self.label_before_seg.image = photo # keep a reference!\n",
    "        self.label_before_seg.place(x=20, y=100)\n",
    "        self.text_1.place(x=150,y=60)\n",
    "        #label.pack()\n",
    "    def buttonListener2(self,event):\n",
    "        k = int(self.edit_text.get())\n",
    "        k_means_seg(self.image_dir,k)\n",
    "        self.image = Image.open(\"tmp.jpg\")\n",
    "        photo = ImageTk.PhotoImage(self.image)\n",
    "        self.label_after_seg = tk.Label(image=photo)\n",
    "        self.label_after_seg.image = photo # keep a reference!\n",
    "        self.label_after_seg.place(x = 750, y =100)\n",
    "        self.text_2 = tk.Label(text=\"image after segmentation\",fg=\"blue\",font=(\"Helvetica\", 16))\n",
    "        self.text_2.place(x=900,y=60)\n",
    "    def buttonListener3(self,event):\n",
    "        self.label_before_seg.place_forget()\n",
    "        self.label_after_seg.place_forget()\n",
    "        self.text_1.place_forget()\n",
    "        self.text_2.place_forget()\n",
    "    def buttonListener4(self,event):\n",
    "        f = filedialog.asksaveasfile(mode='w', defaultextension=\".jpg\")\n",
    "        imsave(f.name,self.image)\n",
    "\n",
    "    def  __init__(self):\n",
    "        self.frame = tk.Tk()\n",
    "        self.frame.wm_title(\"image segementation\")\n",
    "        self.frame.geometry(\"1400x800\")\n",
    "        self.frame.resizable(0, 0)\n",
    "        self.edit_text = tk.Entry(self.frame)\n",
    "        \n",
    "        self.button1 = tk.Button(self.frame,text = \"select input image\",background=\"red\")\n",
    "        self.button2 = tk.Button(self.frame,text = \"start segementation\",bg=\"blue\")\n",
    "        self.button3 = tk.Button(self.frame,text = \"clear\",bg=\"blue\")\n",
    "        self.button4 = tk.Button(self.frame,text = 'save')\n",
    "        self.button1.grid(row = 0,column = 0,padx = 70,pady = 5)\n",
    "        self.edit_text.grid(row = 0, column = 1,padx = 70,pady = 5)\n",
    "        self.button2.grid(row = 0,column = 2,padx = 70,pady = 5)\n",
    "        self.button3.grid(row = 0,column = 4,padx = 70,pady = 5)\n",
    "        self.button4.grid(row = 0,column = 3,padx = 70,pady = 5)\n",
    "        self.button1.bind(\"<ButtonRelease-1>\",self.buttonListener1)\n",
    "        self.button2.bind(\"<ButtonRelease-1>\",self.buttonListener2)\n",
    "        self.button3.bind(\"<ButtonRelease-1>\",self.buttonListener3)\n",
    "        self.button4.bind(\"<ButtonRelease-1>\",self.buttonListener4)\n",
    "        self.frame.mainloop()\n",
    "\n",
    "window = MainWindow()"
   ]
  },
  {
   "cell_type": "code",
   "execution_count": null,
   "metadata": {
    "collapsed": true
   },
   "outputs": [],
   "source": []
  },
  {
   "cell_type": "code",
   "execution_count": null,
   "metadata": {
    "collapsed": true
   },
   "outputs": [],
   "source": []
  }
 ],
 "metadata": {
  "anaconda-cloud": {},
  "kernelspec": {
   "display_name": "Python [default]",
   "language": "python",
   "name": "python3"
  },
  "language_info": {
   "codemirror_mode": {
    "name": "ipython",
    "version": 3
   },
   "file_extension": ".py",
   "mimetype": "text/x-python",
   "name": "python",
   "nbconvert_exporter": "python",
   "pygments_lexer": "ipython3",
   "version": "3.5.2"
  }
 },
 "nbformat": 4,
 "nbformat_minor": 1
}
